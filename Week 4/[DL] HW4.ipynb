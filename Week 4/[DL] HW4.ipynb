{
  "nbformat": 4,
  "nbformat_minor": 0,
  "metadata": {
    "colab": {
      "provenance": [],
      "gpuType": "T4"
    },
    "kernelspec": {
      "name": "python3",
      "display_name": "Python 3"
    },
    "language_info": {
      "name": "python"
    },
    "accelerator": "GPU"
  },
  "cells": [
    {
      "cell_type": "code",
      "execution_count": null,
      "metadata": {
        "id": "cFG6-QuR-Pr2"
      },
      "outputs": [],
      "source": [
        "import torch\n",
        "import torch.nn as nn\n",
        "import torch.optim as optim\n",
        "import torchvision\n",
        "import torchvision.transforms as transforms\n",
        "from torchvision import models"
      ]
    },
    {
      "cell_type": "code",
      "source": [
        "# Set the device (GPU if available, else CPU)\n",
        "device = torch.device(\"cuda:0\" if torch.cuda.is_available() else \"cpu\")"
      ],
      "metadata": {
        "id": "2bWDJgfVBF5G"
      },
      "execution_count": null,
      "outputs": []
    },
    {
      "cell_type": "markdown",
      "source": [
        "# **Data augmentation**\n",
        "\n",
        "Normalize ảnh từ scale [0, 255] về [-1,1], sử dụng ít nhất 2 trong số các\n",
        "- transformations dưới đây cho dataset\n",
        "- Random resized\n",
        "- Center cropping\n",
        "- Random vertical flipping\n",
        "- Random horizontal flipping\n",
        "- Các loại transformation khác có thể tham khảo ở đây https://pytorch.org/vision/master/transforms.html\n"
      ],
      "metadata": {
        "id": "y8EDl2ItBYNp"
      }
    },
    {
      "cell_type": "code",
      "source": [
        "# Define data transformations for FashionMNIST\n",
        "transform = transforms.Compose([\n",
        "    transforms.RandomResizedCrop(28),\n",
        "    transforms.RandomHorizontalFlip(),\n",
        "    transforms.ToTensor(),\n",
        "    transforms.Normalize(mean=[0.5], std=[0.5])  # Normalize to [-1, 1]\n",
        "])"
      ],
      "metadata": {
        "id": "j4BYWFrvBNKd"
      },
      "execution_count": null,
      "outputs": []
    },
    {
      "cell_type": "code",
      "source": [
        "# Download and load FashionMNIST dataset\n",
        "trainset = torchvision.datasets.FashionMNIST(root='./data', train=True, download=True, transform=transform)\n",
        "trainloader = torch.utils.data.DataLoader(trainset, batch_size=64, shuffle=True)\n",
        "\n",
        "testset = torchvision.datasets.FashionMNIST(root=\"./data\", train=False, download=True, transform=transform)\n",
        "testloader = torch.utils.data.DataLoader(testset, batch_size=64, shuffle=False)"
      ],
      "metadata": {
        "id": "Ygs1Fu9QBmFW"
      },
      "execution_count": null,
      "outputs": []
    },
    {
      "cell_type": "markdown",
      "source": [
        "# **Finetuning**\n",
        "Cho mô hình MiniVGG như dưới, hãy load 2 pretrained models vào model MiniVGG ở dưới. Freeze self.features và train lớp cuối (self.classifier) của 2 pretrained models trên dataset FashionMNIST. Sau đó, train model MiniVGG from scratch trên tập FashionMNIST."
      ],
      "metadata": {
        "id": "12c8ctCpBzxZ"
      }
    },
    {
      "cell_type": "code",
      "source": [
        "class MiniVGG(nn.Module):\n",
        "    def __init__(self,):\n",
        "        super(MiniVGG, self).__init__()\n",
        "        self.features = nn.Sequential(nn.Conv2d(1,64,kernel_size=3,padding=1),\n",
        "                                      nn.ReLU(inplace=True),\n",
        "                                      nn.Conv2d(64,64,kernel_size=3,padding=1),\n",
        "                                      nn.ReLU(inplace=True),\n",
        "                                      nn.MaxPool2d(kernel_size=2,stride=2),\n",
        "\n",
        "                                      nn.Conv2d(64,128,kernel_size=3,padding=1),\n",
        "                                      nn.ReLU(inplace=True),\n",
        "                                      nn.Conv2d(128,128,kernel_size=3,padding=1),\n",
        "                                      nn.ReLU(inplace=True),\n",
        "                                      nn.MaxPool2d(kernel_size=2,stride=2),\n",
        "\n",
        "                                      nn.Conv2d(128,256,kernel_size=3,padding=1),\n",
        "                                      nn.ReLU(inplace=True),\n",
        "                                      nn.Conv2d(256,256,kernel_size=3,padding=1),\n",
        "                                      nn.ReLU(inplace=True),\n",
        "                                      nn.MaxPool2d(kernel_size=2, stride=2),\n",
        "\n",
        "\n",
        "        )\n",
        "        self.classifier = nn.Linear(256*3*3,10)\n",
        "        nn.init.normal_(self.classifier.weight,0, 0.01)\n",
        "        nn.init.constant_(self.classifier.bias,0)\n",
        "\n",
        "\n",
        "    def forward(self,x,):\n",
        "        x = self.features(x)\n",
        "        x = torch.flatten(x,1)\n",
        "        x = self.classifier(x)\n",
        "        return x"
      ],
      "metadata": {
        "id": "wmpcurU9Rxkw"
      },
      "execution_count": null,
      "outputs": []
    },
    {
      "cell_type": "code",
      "source": [
        "# File paths for the pretrained models\n",
        "cifar10_model_path = '/content/drive/MyDrive/cifar10_mini_vgg.pth'\n",
        "mnist_model_path = '/content/drive/MyDrive/mnist_mini_vgg.pth'"
      ],
      "metadata": {
        "id": "J46fSF8TDBSd"
      },
      "execution_count": null,
      "outputs": []
    },
    {
      "cell_type": "code",
      "source": [
        "cifar10_pretrained_model = MiniVGG().to(device)\n",
        "cifar10_pretrained_model.load_state_dict(torch.load(cifar10_model_path))\n",
        "cifar10_pretrained_model.features.requires_grad_(False)  # Freeze the feature layers\n",
        "cifar10_pretrained_model.eval()"
      ],
      "metadata": {
        "colab": {
          "base_uri": "https://localhost:8080/"
        },
        "id": "eQ6nm7ciEBwy",
        "outputId": "719cfbae-8294-45ac-fb6c-5ef7c45e3b16"
      },
      "execution_count": null,
      "outputs": [
        {
          "output_type": "execute_result",
          "data": {
            "text/plain": [
              "MiniVGG(\n",
              "  (features): Sequential(\n",
              "    (0): Conv2d(1, 64, kernel_size=(3, 3), stride=(1, 1), padding=(1, 1))\n",
              "    (1): ReLU(inplace=True)\n",
              "    (2): Conv2d(64, 64, kernel_size=(3, 3), stride=(1, 1), padding=(1, 1))\n",
              "    (3): ReLU(inplace=True)\n",
              "    (4): MaxPool2d(kernel_size=2, stride=2, padding=0, dilation=1, ceil_mode=False)\n",
              "    (5): Conv2d(64, 128, kernel_size=(3, 3), stride=(1, 1), padding=(1, 1))\n",
              "    (6): ReLU(inplace=True)\n",
              "    (7): Conv2d(128, 128, kernel_size=(3, 3), stride=(1, 1), padding=(1, 1))\n",
              "    (8): ReLU(inplace=True)\n",
              "    (9): MaxPool2d(kernel_size=2, stride=2, padding=0, dilation=1, ceil_mode=False)\n",
              "    (10): Conv2d(128, 256, kernel_size=(3, 3), stride=(1, 1), padding=(1, 1))\n",
              "    (11): ReLU(inplace=True)\n",
              "    (12): Conv2d(256, 256, kernel_size=(3, 3), stride=(1, 1), padding=(1, 1))\n",
              "    (13): ReLU(inplace=True)\n",
              "    (14): MaxPool2d(kernel_size=2, stride=2, padding=0, dilation=1, ceil_mode=False)\n",
              "  )\n",
              "  (classifier): Linear(in_features=2304, out_features=10, bias=True)\n",
              ")"
            ]
          },
          "metadata": {},
          "execution_count": 35
        }
      ]
    },
    {
      "cell_type": "code",
      "source": [
        "mnist_pretrained_model = MiniVGG().to(device)\n",
        "mnist_pretrained_model.load_state_dict(torch.load(mnist_model_path))\n",
        "mnist_pretrained_model.features.requires_grad_(False)  # Freeze the feature layers\n",
        "mnist_pretrained_model.eval()"
      ],
      "metadata": {
        "colab": {
          "base_uri": "https://localhost:8080/"
        },
        "id": "-hBF7McuEJwC",
        "outputId": "89a4ea5b-21c9-404c-c751-b86ce3a512cb"
      },
      "execution_count": null,
      "outputs": [
        {
          "output_type": "execute_result",
          "data": {
            "text/plain": [
              "MiniVGG(\n",
              "  (features): Sequential(\n",
              "    (0): Conv2d(1, 64, kernel_size=(3, 3), stride=(1, 1), padding=(1, 1))\n",
              "    (1): ReLU(inplace=True)\n",
              "    (2): Conv2d(64, 64, kernel_size=(3, 3), stride=(1, 1), padding=(1, 1))\n",
              "    (3): ReLU(inplace=True)\n",
              "    (4): MaxPool2d(kernel_size=2, stride=2, padding=0, dilation=1, ceil_mode=False)\n",
              "    (5): Conv2d(64, 128, kernel_size=(3, 3), stride=(1, 1), padding=(1, 1))\n",
              "    (6): ReLU(inplace=True)\n",
              "    (7): Conv2d(128, 128, kernel_size=(3, 3), stride=(1, 1), padding=(1, 1))\n",
              "    (8): ReLU(inplace=True)\n",
              "    (9): MaxPool2d(kernel_size=2, stride=2, padding=0, dilation=1, ceil_mode=False)\n",
              "    (10): Conv2d(128, 256, kernel_size=(3, 3), stride=(1, 1), padding=(1, 1))\n",
              "    (11): ReLU(inplace=True)\n",
              "    (12): Conv2d(256, 256, kernel_size=(3, 3), stride=(1, 1), padding=(1, 1))\n",
              "    (13): ReLU(inplace=True)\n",
              "    (14): MaxPool2d(kernel_size=2, stride=2, padding=0, dilation=1, ceil_mode=False)\n",
              "  )\n",
              "  (classifier): Linear(in_features=2304, out_features=10, bias=True)\n",
              ")"
            ]
          },
          "metadata": {},
          "execution_count": 37
        }
      ]
    },
    {
      "cell_type": "code",
      "source": [
        "from_scratch_model =  MiniVGG().to(device)\n",
        "from_scratch_model.eval()"
      ],
      "metadata": {
        "colab": {
          "base_uri": "https://localhost:8080/"
        },
        "id": "A72If73vSgNt",
        "outputId": "5b6b3b5c-53d6-48e7-a505-ecbbd435a1de"
      },
      "execution_count": null,
      "outputs": [
        {
          "output_type": "execute_result",
          "data": {
            "text/plain": [
              "MiniVGG(\n",
              "  (features): Sequential(\n",
              "    (0): Conv2d(1, 64, kernel_size=(3, 3), stride=(1, 1), padding=(1, 1))\n",
              "    (1): ReLU(inplace=True)\n",
              "    (2): Conv2d(64, 64, kernel_size=(3, 3), stride=(1, 1), padding=(1, 1))\n",
              "    (3): ReLU(inplace=True)\n",
              "    (4): MaxPool2d(kernel_size=2, stride=2, padding=0, dilation=1, ceil_mode=False)\n",
              "    (5): Conv2d(64, 128, kernel_size=(3, 3), stride=(1, 1), padding=(1, 1))\n",
              "    (6): ReLU(inplace=True)\n",
              "    (7): Conv2d(128, 128, kernel_size=(3, 3), stride=(1, 1), padding=(1, 1))\n",
              "    (8): ReLU(inplace=True)\n",
              "    (9): MaxPool2d(kernel_size=2, stride=2, padding=0, dilation=1, ceil_mode=False)\n",
              "    (10): Conv2d(128, 256, kernel_size=(3, 3), stride=(1, 1), padding=(1, 1))\n",
              "    (11): ReLU(inplace=True)\n",
              "    (12): Conv2d(256, 256, kernel_size=(3, 3), stride=(1, 1), padding=(1, 1))\n",
              "    (13): ReLU(inplace=True)\n",
              "    (14): MaxPool2d(kernel_size=2, stride=2, padding=0, dilation=1, ceil_mode=False)\n",
              "  )\n",
              "  (classifier): Linear(in_features=2304, out_features=10, bias=True)\n",
              ")"
            ]
          },
          "metadata": {},
          "execution_count": 38
        }
      ]
    },
    {
      "cell_type": "code",
      "source": [
        "# Define loss function and optimizer\n",
        "criterion = nn.CrossEntropyLoss()\n",
        "optimizer_cifar10 = optim.SGD(cifar10_pretrained_model.parameters(), lr=1e-4, momentum=0.9)\n",
        "optimizer_mnist = optim.SGD(mnist_pretrained_model.parameters(), lr=1e-4, momentum=0.9)\n",
        "optimizer_scratch = optim.SGD(from_scratch_model.parameters(), lr=1e-4, momentum=0.9)"
      ],
      "metadata": {
        "id": "jzWbPJZ1FLyQ"
      },
      "execution_count": null,
      "outputs": []
    },
    {
      "cell_type": "code",
      "source": [
        "# Fine-tune the classifiers on FashionMNIST\n",
        "for epoch in range(5):\n",
        "    for i, data in enumerate(trainloader, 0):\n",
        "        inputs, labels = data\n",
        "        inputs, labels = inputs.to(device), labels.to(device)\n",
        "\n",
        "        # Fine-tune the CIFAR-10 pretrained model's classifier\n",
        "        optimizer_cifar10.zero_grad()\n",
        "        outputs_cifar10 = cifar10_pretrained_model(inputs)\n",
        "        loss_cifar10 = criterion(outputs_cifar10, labels)\n",
        "        loss_cifar10.backward()\n",
        "        optimizer_cifar10.step()\n",
        "\n",
        "        if (i + 1) % 100 == 0:\n",
        "            print(\"Epoch: {}/5, Step: {}/{}, Loss: {:.4f}\".format(\n",
        "                epoch + 1, i + 1, len(trainloader), loss_cifar10.item()\n",
        "            ))"
      ],
      "metadata": {
        "colab": {
          "base_uri": "https://localhost:8080/"
        },
        "id": "H70j7jTJUFaT",
        "outputId": "a419f295-0315-4d9f-edaf-e40bb055bde9"
      },
      "execution_count": null,
      "outputs": [
        {
          "output_type": "stream",
          "name": "stdout",
          "text": [
            "Epoch: 1/5, Step: 100/938, Loss: 0.7044\n",
            "Epoch: 1/5, Step: 200/938, Loss: 0.9209\n",
            "Epoch: 1/5, Step: 300/938, Loss: 0.7679\n",
            "Epoch: 1/5, Step: 400/938, Loss: 0.7104\n",
            "Epoch: 1/5, Step: 500/938, Loss: 0.8199\n",
            "Epoch: 1/5, Step: 600/938, Loss: 0.5380\n",
            "Epoch: 1/5, Step: 700/938, Loss: 0.6599\n",
            "Epoch: 1/5, Step: 800/938, Loss: 1.1132\n",
            "Epoch: 1/5, Step: 900/938, Loss: 0.7721\n",
            "Epoch: 2/5, Step: 100/938, Loss: 0.7535\n",
            "Epoch: 2/5, Step: 200/938, Loss: 0.5676\n",
            "Epoch: 2/5, Step: 300/938, Loss: 0.6879\n",
            "Epoch: 2/5, Step: 400/938, Loss: 0.7296\n",
            "Epoch: 2/5, Step: 500/938, Loss: 0.8615\n",
            "Epoch: 2/5, Step: 600/938, Loss: 0.7339\n",
            "Epoch: 2/5, Step: 700/938, Loss: 0.6266\n",
            "Epoch: 2/5, Step: 800/938, Loss: 0.5322\n",
            "Epoch: 2/5, Step: 900/938, Loss: 0.7568\n",
            "Epoch: 3/5, Step: 100/938, Loss: 0.8622\n",
            "Epoch: 3/5, Step: 200/938, Loss: 0.5696\n",
            "Epoch: 3/5, Step: 300/938, Loss: 0.7974\n",
            "Epoch: 3/5, Step: 400/938, Loss: 0.7980\n",
            "Epoch: 3/5, Step: 500/938, Loss: 0.8674\n",
            "Epoch: 3/5, Step: 600/938, Loss: 0.4507\n",
            "Epoch: 3/5, Step: 700/938, Loss: 0.4875\n",
            "Epoch: 3/5, Step: 800/938, Loss: 0.6177\n",
            "Epoch: 3/5, Step: 900/938, Loss: 0.7353\n",
            "Epoch: 4/5, Step: 100/938, Loss: 0.6415\n",
            "Epoch: 4/5, Step: 200/938, Loss: 0.7854\n",
            "Epoch: 4/5, Step: 300/938, Loss: 0.5100\n",
            "Epoch: 4/5, Step: 400/938, Loss: 0.7411\n",
            "Epoch: 4/5, Step: 500/938, Loss: 1.0166\n",
            "Epoch: 4/5, Step: 600/938, Loss: 0.8629\n",
            "Epoch: 4/5, Step: 700/938, Loss: 0.6948\n",
            "Epoch: 4/5, Step: 800/938, Loss: 0.6140\n",
            "Epoch: 4/5, Step: 900/938, Loss: 1.0010\n",
            "Epoch: 5/5, Step: 100/938, Loss: 0.5169\n",
            "Epoch: 5/5, Step: 200/938, Loss: 0.7653\n",
            "Epoch: 5/5, Step: 300/938, Loss: 0.6948\n",
            "Epoch: 5/5, Step: 400/938, Loss: 0.8970\n",
            "Epoch: 5/5, Step: 500/938, Loss: 0.7072\n",
            "Epoch: 5/5, Step: 600/938, Loss: 0.9322\n",
            "Epoch: 5/5, Step: 700/938, Loss: 0.5854\n",
            "Epoch: 5/5, Step: 800/938, Loss: 0.7322\n",
            "Epoch: 5/5, Step: 900/938, Loss: 0.8971\n"
          ]
        }
      ]
    },
    {
      "cell_type": "code",
      "source": [
        "# Fine-tune the classifiers on FashionMNIST\n",
        "for epoch in range(5):\n",
        "    for i, data in enumerate(trainloader, 0):\n",
        "        inputs, labels = data\n",
        "        inputs, labels = inputs.to(device), labels.to(device)\n",
        "\n",
        "        # Fine-tune the MNIST pretrained model's classifier\n",
        "        optimizer_mnist.zero_grad()\n",
        "        outputs_mnist = mnist_pretrained_model(inputs)\n",
        "        loss_mnist = criterion(outputs_mnist, labels)\n",
        "        loss_mnist.backward()\n",
        "        optimizer_mnist.step()\n",
        "\n",
        "        if (i + 1) % 100 == 0:\n",
        "          print(\"Epoch: {}/5, Step: {}/{}, Loss: {:.4f}\".format(\n",
        "              epoch + 1, i + 1, len(trainloader), loss_mnist.item()\n",
        "          ))\n"
      ],
      "metadata": {
        "colab": {
          "base_uri": "https://localhost:8080/"
        },
        "id": "TcvYE6KLWLF3",
        "outputId": "f0cfa89f-2f43-47bd-acaf-4026fe88ddc1"
      },
      "execution_count": null,
      "outputs": [
        {
          "output_type": "stream",
          "name": "stdout",
          "text": [
            "Epoch: 1/5, Step: 100/938, Loss: 3.6291\n",
            "Epoch: 1/5, Step: 200/938, Loss: 2.6584\n",
            "Epoch: 1/5, Step: 300/938, Loss: 2.1027\n",
            "Epoch: 1/5, Step: 400/938, Loss: 1.7754\n",
            "Epoch: 1/5, Step: 500/938, Loss: 1.6430\n",
            "Epoch: 1/5, Step: 600/938, Loss: 1.8744\n",
            "Epoch: 1/5, Step: 700/938, Loss: 2.1913\n",
            "Epoch: 1/5, Step: 800/938, Loss: 1.9600\n",
            "Epoch: 1/5, Step: 900/938, Loss: 1.5755\n",
            "Epoch: 2/5, Step: 100/938, Loss: 1.7939\n",
            "Epoch: 2/5, Step: 200/938, Loss: 1.4917\n",
            "Epoch: 2/5, Step: 300/938, Loss: 1.5072\n",
            "Epoch: 2/5, Step: 400/938, Loss: 1.4339\n",
            "Epoch: 2/5, Step: 500/938, Loss: 1.7829\n",
            "Epoch: 2/5, Step: 600/938, Loss: 1.6370\n",
            "Epoch: 2/5, Step: 700/938, Loss: 1.2512\n",
            "Epoch: 2/5, Step: 800/938, Loss: 1.3551\n",
            "Epoch: 2/5, Step: 900/938, Loss: 1.6325\n",
            "Epoch: 3/5, Step: 100/938, Loss: 1.2950\n",
            "Epoch: 3/5, Step: 200/938, Loss: 1.5749\n",
            "Epoch: 3/5, Step: 300/938, Loss: 1.5196\n",
            "Epoch: 3/5, Step: 400/938, Loss: 1.4739\n",
            "Epoch: 3/5, Step: 500/938, Loss: 1.3388\n",
            "Epoch: 3/5, Step: 600/938, Loss: 1.8739\n",
            "Epoch: 3/5, Step: 700/938, Loss: 1.5552\n",
            "Epoch: 3/5, Step: 800/938, Loss: 1.4480\n",
            "Epoch: 3/5, Step: 900/938, Loss: 1.1779\n",
            "Epoch: 4/5, Step: 100/938, Loss: 1.1487\n",
            "Epoch: 4/5, Step: 200/938, Loss: 1.0417\n",
            "Epoch: 4/5, Step: 300/938, Loss: 1.2835\n",
            "Epoch: 4/5, Step: 400/938, Loss: 1.4011\n",
            "Epoch: 4/5, Step: 500/938, Loss: 1.2922\n",
            "Epoch: 4/5, Step: 600/938, Loss: 1.4859\n",
            "Epoch: 4/5, Step: 700/938, Loss: 1.3965\n",
            "Epoch: 4/5, Step: 800/938, Loss: 1.0852\n",
            "Epoch: 4/5, Step: 900/938, Loss: 1.4981\n",
            "Epoch: 5/5, Step: 100/938, Loss: 1.0538\n",
            "Epoch: 5/5, Step: 200/938, Loss: 1.2589\n",
            "Epoch: 5/5, Step: 300/938, Loss: 1.3544\n",
            "Epoch: 5/5, Step: 400/938, Loss: 1.1203\n",
            "Epoch: 5/5, Step: 500/938, Loss: 0.9609\n",
            "Epoch: 5/5, Step: 600/938, Loss: 1.4497\n",
            "Epoch: 5/5, Step: 700/938, Loss: 1.2372\n",
            "Epoch: 5/5, Step: 800/938, Loss: 1.3087\n",
            "Epoch: 5/5, Step: 900/938, Loss: 1.3704\n"
          ]
        }
      ]
    },
    {
      "cell_type": "code",
      "source": [
        "# Train MiniVGG from scratch\n",
        "for epoch in range(5):\n",
        "    for i, data in enumerate(trainloader, 0):\n",
        "        inputs, labels = data\n",
        "        inputs, labels = inputs.to(device), labels.to(device)\n",
        "\n",
        "        # Train from scratch\n",
        "        optimizer_scratch.zero_grad()\n",
        "        outputs_scratch = from_scratch_model(inputs)\n",
        "        loss = criterion(outputs_scratch, labels)\n",
        "        loss.backward()\n",
        "        optimizer_scratch.step()\n",
        "\n",
        "        if (i + 1) % 100 == 0:\n",
        "          print(\"Epoch: {}/5, Step: {}/{}, Loss: {:.4f}\".format(\n",
        "              epoch + 1, i + 1, len(trainloader), loss.item()\n",
        "          ))\n"
      ],
      "metadata": {
        "colab": {
          "base_uri": "https://localhost:8080/"
        },
        "id": "bbVdf2_IVn-2",
        "outputId": "4571a5b4-b3b4-40c2-9dc5-d667bf353290"
      },
      "execution_count": null,
      "outputs": [
        {
          "output_type": "stream",
          "name": "stdout",
          "text": [
            "Epoch: 1/5, Step: 100/938, Loss: 2.3011\n",
            "Epoch: 1/5, Step: 200/938, Loss: 2.3023\n",
            "Epoch: 1/5, Step: 300/938, Loss: 2.3031\n",
            "Epoch: 1/5, Step: 400/938, Loss: 2.3028\n",
            "Epoch: 1/5, Step: 500/938, Loss: 2.3025\n",
            "Epoch: 1/5, Step: 600/938, Loss: 2.3004\n",
            "Epoch: 1/5, Step: 700/938, Loss: 2.3023\n",
            "Epoch: 1/5, Step: 800/938, Loss: 2.3024\n",
            "Epoch: 1/5, Step: 900/938, Loss: 2.3018\n",
            "Epoch: 2/5, Step: 100/938, Loss: 2.3009\n",
            "Epoch: 2/5, Step: 200/938, Loss: 2.3013\n",
            "Epoch: 2/5, Step: 300/938, Loss: 2.3023\n",
            "Epoch: 2/5, Step: 400/938, Loss: 2.3039\n",
            "Epoch: 2/5, Step: 500/938, Loss: 2.3020\n",
            "Epoch: 2/5, Step: 600/938, Loss: 2.3017\n",
            "Epoch: 2/5, Step: 700/938, Loss: 2.3017\n",
            "Epoch: 2/5, Step: 800/938, Loss: 2.3020\n",
            "Epoch: 2/5, Step: 900/938, Loss: 2.3010\n",
            "Epoch: 3/5, Step: 100/938, Loss: 2.3029\n",
            "Epoch: 3/5, Step: 200/938, Loss: 2.3008\n",
            "Epoch: 3/5, Step: 300/938, Loss: 2.3009\n",
            "Epoch: 3/5, Step: 400/938, Loss: 2.3018\n",
            "Epoch: 3/5, Step: 500/938, Loss: 2.3016\n",
            "Epoch: 3/5, Step: 600/938, Loss: 2.3023\n",
            "Epoch: 3/5, Step: 700/938, Loss: 2.3013\n",
            "Epoch: 3/5, Step: 800/938, Loss: 2.3020\n",
            "Epoch: 3/5, Step: 900/938, Loss: 2.3027\n",
            "Epoch: 4/5, Step: 100/938, Loss: 2.3004\n",
            "Epoch: 4/5, Step: 200/938, Loss: 2.3012\n",
            "Epoch: 4/5, Step: 300/938, Loss: 2.3018\n",
            "Epoch: 4/5, Step: 400/938, Loss: 2.2994\n",
            "Epoch: 4/5, Step: 500/938, Loss: 2.2992\n",
            "Epoch: 4/5, Step: 600/938, Loss: 2.3005\n",
            "Epoch: 4/5, Step: 700/938, Loss: 2.2992\n",
            "Epoch: 4/5, Step: 800/938, Loss: 2.3004\n",
            "Epoch: 4/5, Step: 900/938, Loss: 2.3016\n",
            "Epoch: 5/5, Step: 100/938, Loss: 2.3003\n",
            "Epoch: 5/5, Step: 200/938, Loss: 2.2997\n",
            "Epoch: 5/5, Step: 300/938, Loss: 2.3000\n",
            "Epoch: 5/5, Step: 400/938, Loss: 2.2987\n",
            "Epoch: 5/5, Step: 500/938, Loss: 2.2974\n",
            "Epoch: 5/5, Step: 600/938, Loss: 2.2979\n",
            "Epoch: 5/5, Step: 700/938, Loss: 2.2960\n",
            "Epoch: 5/5, Step: 800/938, Loss: 2.2990\n",
            "Epoch: 5/5, Step: 900/938, Loss: 2.2991\n"
          ]
        }
      ]
    },
    {
      "cell_type": "code",
      "source": [
        "def calculate_accuracy(model, dataloader):\n",
        "    total_correct = 0\n",
        "    total_samples = 0\n",
        "    model.eval()  # Set the model to evaluation mode\n",
        "    with torch.no_grad():\n",
        "        for images, labels in testloader:\n",
        "            images = images.to(device)\n",
        "            labels = labels.to(device)\n",
        "            batch_size = images.size(0)\n",
        "            outputs = model(images)\n",
        "            _, predicted = torch.max(outputs.data, 1)\n",
        "            total_correct += (predicted == labels).sum().item()\n",
        "            total_samples += labels.size(0)\n",
        "    accuracy = 100 * total_correct / total_samples\n",
        "    return accuracy"
      ],
      "metadata": {
        "id": "4qx_H_o3ZFuO"
      },
      "execution_count": null,
      "outputs": []
    },
    {
      "cell_type": "code",
      "source": [
        "# Calculate accuracy for the fine-tuned models\n",
        "cifar10_accuracy = calculate_accuracy(cifar10_pretrained_model, testloader)\n",
        "mnist_accuracy = calculate_accuracy(mnist_pretrained_model, testloader)\n",
        "\n",
        "# Calculate accuracy for the model trained from scratch\n",
        "scratch_model_accuracy = calculate_accuracy(from_scratch_model, testloader)\n",
        "\n",
        "print(f'Accuracy of the CIFAR pretrained model: {cifar10_accuracy}%')\n",
        "print(f'Accuracy of the MNIST pretrained model: {mnist_accuracy}%')\n",
        "print(f'Accuracy of the model trained from scratch: {scratch_model_accuracy}%')"
      ],
      "metadata": {
        "colab": {
          "base_uri": "https://localhost:8080/"
        },
        "id": "bFiPIXacZHUt",
        "outputId": "3ce8ba4c-0e30-47f2-82f1-b2fce1c57523"
      },
      "execution_count": null,
      "outputs": [
        {
          "output_type": "stream",
          "name": "stdout",
          "text": [
            "Accuracy of the CIFAR-10 pretrained model: 73.53%\n",
            "Accuracy of the MNIST pretrained model: 57.87%\n",
            "Accuracy of the model trained from scratch: 14.58%\n"
          ]
        }
      ]
    },
    {
      "cell_type": "markdown",
      "source": [
        "## **Nhận xét**\n",
        "- Model pretrained trên CIFAR đã có kết quả tốt nhất, tiếp theo là model pretrained trên MNIST. Mô hình được train lại từ đầu có độ chính xác thấp nhất.\n",
        "\n",
        "- Giải thích:\n",
        "    - Pretrained tốt hơn train from scratch: Các mô hình pretrained trên các bộ dữ liệu lớn thường đã học được các đặc trưng hữu ích, việc sử dụng lại các đặc trưng này giúp giảm thiểu việc cần đào tạo một mô hình từ đầu và tiết kiệm thời gian đào tạo.\n",
        "    - Pretrained trên CIFAR tốt hơn MNIST: Dataset CIFAR có nhiều feature gần giống với dataset FashionMNIST hơn so với dataset MNIST, dẫn đến việc chuyển đổi kiến thức tốt hơn.\n",
        "\n",
        "- Nếu train với nhiều epochs hơn thì accuracy của 3 models có giống nhau không?\n",
        "  - Không, nếu huấn luyện với nhiều epochs hơn, hiệu suất của 3 mô hình không nhất thiết phải giống nhau.\n",
        "  - Hiệu suất của mỗi mô hình có thể khác nhau tùy thuộc vào kiến trúc mô hình, bộ dữ liệu, và cách đào tạo."
      ],
      "metadata": {
        "id": "-thGDgR5dpuC"
      }
    },
    {
      "cell_type": "markdown",
      "source": [
        "# **Feature extractor**\n",
        "\n",
        "Với model train from scratch, dùng get_graph_node_names() và create_feature_extractor từ thư viện torchvision.models.feature_extraction để in ra tên layer và weight của layer tương ứng\n"
      ],
      "metadata": {
        "id": "mzjUGqhJh6Qu"
      }
    },
    {
      "cell_type": "code",
      "source": [
        "from torchvision.models.feature_extraction import create_feature_extractor, get_graph_node_names"
      ],
      "metadata": {
        "id": "vdzF49ETcGuL"
      },
      "execution_count": null,
      "outputs": []
    },
    {
      "cell_type": "code",
      "source": [
        "train_nodes, eval_nodes = get_graph_node_names(from_scratch_model)"
      ],
      "metadata": {
        "id": "TML_Q2Ljix6T"
      },
      "execution_count": null,
      "outputs": []
    },
    {
      "cell_type": "code",
      "source": [
        "train_nodes"
      ],
      "metadata": {
        "colab": {
          "base_uri": "https://localhost:8080/"
        },
        "id": "ogNiyqQEjHjY",
        "outputId": "8a419957-61bd-4e41-c1d7-b9945a1444e4"
      },
      "execution_count": null,
      "outputs": [
        {
          "output_type": "execute_result",
          "data": {
            "text/plain": [
              "['x',\n",
              " 'features.0',\n",
              " 'features.1',\n",
              " 'features.2',\n",
              " 'features.3',\n",
              " 'features.4',\n",
              " 'features.5',\n",
              " 'features.6',\n",
              " 'features.7',\n",
              " 'features.8',\n",
              " 'features.9',\n",
              " 'features.10',\n",
              " 'features.11',\n",
              " 'features.12',\n",
              " 'features.13',\n",
              " 'features.14',\n",
              " 'flatten',\n",
              " 'classifier']"
            ]
          },
          "metadata": {},
          "execution_count": 56
        }
      ]
    },
    {
      "cell_type": "code",
      "source": [
        "create_feature_extractor(from_scratch_model, train_return_nodes= train_nodes, eval_return_nodes= eval_nodes)"
      ],
      "metadata": {
        "colab": {
          "base_uri": "https://localhost:8080/"
        },
        "id": "F2Tq9IaFjJU7",
        "outputId": "30b36b74-9f7a-49d1-e483-6ea6b9643213"
      },
      "execution_count": null,
      "outputs": [
        {
          "output_type": "execute_result",
          "data": {
            "text/plain": [
              "MiniVGG(\n",
              "  (features): Module(\n",
              "    (0): Conv2d(1, 64, kernel_size=(3, 3), stride=(1, 1), padding=(1, 1))\n",
              "    (1): ReLU(inplace=True)\n",
              "    (2): Conv2d(64, 64, kernel_size=(3, 3), stride=(1, 1), padding=(1, 1))\n",
              "    (3): ReLU(inplace=True)\n",
              "    (4): MaxPool2d(kernel_size=2, stride=2, padding=0, dilation=1, ceil_mode=False)\n",
              "    (5): Conv2d(64, 128, kernel_size=(3, 3), stride=(1, 1), padding=(1, 1))\n",
              "    (6): ReLU(inplace=True)\n",
              "    (7): Conv2d(128, 128, kernel_size=(3, 3), stride=(1, 1), padding=(1, 1))\n",
              "    (8): ReLU(inplace=True)\n",
              "    (9): MaxPool2d(kernel_size=2, stride=2, padding=0, dilation=1, ceil_mode=False)\n",
              "    (10): Conv2d(128, 256, kernel_size=(3, 3), stride=(1, 1), padding=(1, 1))\n",
              "    (11): ReLU(inplace=True)\n",
              "    (12): Conv2d(256, 256, kernel_size=(3, 3), stride=(1, 1), padding=(1, 1))\n",
              "    (13): ReLU(inplace=True)\n",
              "    (14): MaxPool2d(kernel_size=2, stride=2, padding=0, dilation=1, ceil_mode=False)\n",
              "  )\n",
              "  (classifier): Linear(in_features=2304, out_features=10, bias=True)\n",
              ")"
            ]
          },
          "metadata": {},
          "execution_count": 58
        }
      ]
    },
    {
      "cell_type": "code",
      "source": [
        "from_scratch_model.features[0].weight"
      ],
      "metadata": {
        "colab": {
          "base_uri": "https://localhost:8080/"
        },
        "id": "L6fcdznJjLy5",
        "outputId": "d4f5c30b-e871-48d7-df70-6b6d62e058fa"
      },
      "execution_count": null,
      "outputs": [
        {
          "output_type": "execute_result",
          "data": {
            "text/plain": [
              "Parameter containing:\n",
              "tensor([[[[-0.0885,  0.2641,  0.2803],\n",
              "          [ 0.2875, -0.2080, -0.2344],\n",
              "          [ 0.0181,  0.0344, -0.2689]]],\n",
              "\n",
              "\n",
              "        [[[ 0.0111, -0.0864,  0.2969],\n",
              "          [-0.3170,  0.2687, -0.2292],\n",
              "          [-0.1670,  0.2423, -0.2965]]],\n",
              "\n",
              "\n",
              "        [[[-0.1298, -0.1011,  0.3079],\n",
              "          [-0.2006,  0.1165,  0.2662],\n",
              "          [ 0.0377,  0.1113,  0.0813]]],\n",
              "\n",
              "\n",
              "        [[[-0.0072,  0.1617,  0.2808],\n",
              "          [ 0.1617,  0.2832,  0.1461],\n",
              "          [ 0.0417, -0.2987, -0.0046]]],\n",
              "\n",
              "\n",
              "        [[[ 0.2739, -0.2942,  0.0323],\n",
              "          [-0.1317,  0.1386,  0.3188],\n",
              "          [-0.0466,  0.0808,  0.2073]]],\n",
              "\n",
              "\n",
              "        [[[ 0.2501, -0.2185, -0.3150],\n",
              "          [-0.1460,  0.1609,  0.0239],\n",
              "          [ 0.1789, -0.1644,  0.1819]]],\n",
              "\n",
              "\n",
              "        [[[ 0.0758,  0.1495, -0.1737],\n",
              "          [ 0.1527, -0.1274, -0.3110],\n",
              "          [-0.0079,  0.3079, -0.2461]]],\n",
              "\n",
              "\n",
              "        [[[ 0.2400,  0.2640,  0.2991],\n",
              "          [ 0.0952, -0.1350, -0.2974],\n",
              "          [ 0.1662,  0.1215,  0.1854]]],\n",
              "\n",
              "\n",
              "        [[[ 0.0892,  0.1246, -0.3152],\n",
              "          [ 0.0566, -0.1187, -0.2024],\n",
              "          [ 0.0408,  0.3172,  0.2508]]],\n",
              "\n",
              "\n",
              "        [[[-0.0586,  0.2622,  0.3023],\n",
              "          [ 0.1562, -0.2571, -0.0221],\n",
              "          [ 0.2333, -0.2029,  0.1821]]],\n",
              "\n",
              "\n",
              "        [[[ 0.2302, -0.2768, -0.2167],\n",
              "          [-0.1371,  0.0581,  0.3315],\n",
              "          [-0.1254,  0.1328,  0.1041]]],\n",
              "\n",
              "\n",
              "        [[[-0.1162,  0.0832, -0.3303],\n",
              "          [-0.2734, -0.0487, -0.3264],\n",
              "          [-0.0358,  0.2187,  0.0680]]],\n",
              "\n",
              "\n",
              "        [[[ 0.1567,  0.0719, -0.2539],\n",
              "          [ 0.2227, -0.0658,  0.2577],\n",
              "          [ 0.0348,  0.0806, -0.0675]]],\n",
              "\n",
              "\n",
              "        [[[-0.1827,  0.0275, -0.1548],\n",
              "          [-0.0517, -0.1550, -0.1479],\n",
              "          [ 0.0607,  0.1494,  0.3074]]],\n",
              "\n",
              "\n",
              "        [[[-0.3144,  0.0392, -0.2983],\n",
              "          [ 0.1047,  0.0489,  0.2027],\n",
              "          [-0.2393, -0.1194,  0.0636]]],\n",
              "\n",
              "\n",
              "        [[[ 0.0882,  0.3116,  0.2922],\n",
              "          [ 0.0905, -0.1737,  0.2405],\n",
              "          [-0.2789,  0.1275,  0.2224]]],\n",
              "\n",
              "\n",
              "        [[[-0.1263, -0.2833, -0.2569],\n",
              "          [ 0.3116,  0.0662,  0.1893],\n",
              "          [-0.1614, -0.2348, -0.2811]]],\n",
              "\n",
              "\n",
              "        [[[-0.2384,  0.2837,  0.1073],\n",
              "          [-0.0894, -0.0862,  0.2605],\n",
              "          [ 0.0508, -0.1958, -0.1584]]],\n",
              "\n",
              "\n",
              "        [[[ 0.1773,  0.1518,  0.0045],\n",
              "          [-0.2501, -0.1746,  0.1844],\n",
              "          [-0.1776,  0.0548,  0.0034]]],\n",
              "\n",
              "\n",
              "        [[[-0.0618,  0.1773, -0.1612],\n",
              "          [ 0.1564,  0.0656, -0.2714],\n",
              "          [ 0.0761, -0.1267,  0.1636]]],\n",
              "\n",
              "\n",
              "        [[[-0.1839, -0.0609, -0.2103],\n",
              "          [ 0.0988,  0.1615, -0.0524],\n",
              "          [ 0.2489, -0.3210,  0.0146]]],\n",
              "\n",
              "\n",
              "        [[[-0.3250,  0.0813, -0.0431],\n",
              "          [ 0.2627, -0.0782, -0.0122],\n",
              "          [-0.0677, -0.0434,  0.0022]]],\n",
              "\n",
              "\n",
              "        [[[ 0.3239,  0.1446,  0.0365],\n",
              "          [-0.0937,  0.1768,  0.1896],\n",
              "          [-0.2165, -0.1272, -0.1936]]],\n",
              "\n",
              "\n",
              "        [[[ 0.3331, -0.0082,  0.2823],\n",
              "          [-0.3066, -0.2682, -0.0090],\n",
              "          [-0.2909, -0.0106, -0.1407]]],\n",
              "\n",
              "\n",
              "        [[[ 0.0352, -0.0452,  0.0212],\n",
              "          [ 0.1204, -0.0886,  0.0171],\n",
              "          [-0.0535,  0.2699, -0.2322]]],\n",
              "\n",
              "\n",
              "        [[[ 0.1716,  0.1065,  0.0321],\n",
              "          [-0.1719, -0.0362, -0.2107],\n",
              "          [ 0.1856, -0.0892, -0.2538]]],\n",
              "\n",
              "\n",
              "        [[[ 0.2405,  0.1716,  0.2189],\n",
              "          [-0.3252,  0.0332,  0.0208],\n",
              "          [ 0.3267,  0.2336, -0.0216]]],\n",
              "\n",
              "\n",
              "        [[[ 0.2668,  0.2039,  0.0644],\n",
              "          [-0.0542,  0.2020,  0.1432],\n",
              "          [ 0.2019,  0.2565, -0.0565]]],\n",
              "\n",
              "\n",
              "        [[[-0.1224,  0.0262, -0.0291],\n",
              "          [ 0.2562,  0.3163,  0.1691],\n",
              "          [ 0.1565,  0.2629,  0.1317]]],\n",
              "\n",
              "\n",
              "        [[[-0.3255, -0.0881,  0.1353],\n",
              "          [ 0.0632,  0.0335, -0.0857],\n",
              "          [ 0.1400, -0.1718, -0.3294]]],\n",
              "\n",
              "\n",
              "        [[[-0.3214, -0.0007,  0.2384],\n",
              "          [-0.1825, -0.0198, -0.2715],\n",
              "          [ 0.0816,  0.0958,  0.1983]]],\n",
              "\n",
              "\n",
              "        [[[ 0.1852, -0.0486,  0.1779],\n",
              "          [ 0.1662, -0.2927,  0.2755],\n",
              "          [-0.2074,  0.0095, -0.1278]]],\n",
              "\n",
              "\n",
              "        [[[-0.2918, -0.0618, -0.1271],\n",
              "          [-0.1571,  0.2337,  0.0113],\n",
              "          [-0.2651, -0.2316, -0.2805]]],\n",
              "\n",
              "\n",
              "        [[[ 0.0259, -0.1651, -0.0312],\n",
              "          [-0.3238,  0.1095, -0.1846],\n",
              "          [ 0.1398,  0.2248, -0.1260]]],\n",
              "\n",
              "\n",
              "        [[[-0.1447, -0.0144, -0.1961],\n",
              "          [ 0.2149, -0.0965, -0.1248],\n",
              "          [ 0.1076,  0.1460, -0.0298]]],\n",
              "\n",
              "\n",
              "        [[[-0.0152,  0.1801,  0.0015],\n",
              "          [-0.0345, -0.0652, -0.2485],\n",
              "          [-0.1340, -0.1125, -0.2118]]],\n",
              "\n",
              "\n",
              "        [[[-0.0193,  0.2457,  0.3202],\n",
              "          [-0.0859, -0.3281,  0.0036],\n",
              "          [-0.2352, -0.2830,  0.1319]]],\n",
              "\n",
              "\n",
              "        [[[ 0.0945, -0.2537, -0.0670],\n",
              "          [-0.0153,  0.1013, -0.1122],\n",
              "          [-0.1190, -0.0962, -0.0100]]],\n",
              "\n",
              "\n",
              "        [[[ 0.1684, -0.3147, -0.0959],\n",
              "          [ 0.1755,  0.1435,  0.0816],\n",
              "          [-0.1631, -0.2965,  0.2209]]],\n",
              "\n",
              "\n",
              "        [[[ 0.0439, -0.2069, -0.0497],\n",
              "          [-0.1557,  0.2987,  0.1923],\n",
              "          [ 0.3283,  0.2226, -0.2170]]],\n",
              "\n",
              "\n",
              "        [[[ 0.1173, -0.1198,  0.3047],\n",
              "          [ 0.2846, -0.1857,  0.0245],\n",
              "          [ 0.2053,  0.1178,  0.0796]]],\n",
              "\n",
              "\n",
              "        [[[-0.2248,  0.1909, -0.2198],\n",
              "          [-0.2517,  0.0165,  0.3218],\n",
              "          [ 0.1916,  0.0352, -0.1597]]],\n",
              "\n",
              "\n",
              "        [[[ 0.2850, -0.2307,  0.0159],\n",
              "          [ 0.2440,  0.2496, -0.0473],\n",
              "          [ 0.0631,  0.0651,  0.1143]]],\n",
              "\n",
              "\n",
              "        [[[-0.0674,  0.0573, -0.1684],\n",
              "          [ 0.1610, -0.1756, -0.0442],\n",
              "          [-0.1450, -0.2931, -0.3199]]],\n",
              "\n",
              "\n",
              "        [[[ 0.1485, -0.2467,  0.1561],\n",
              "          [-0.0276,  0.1585,  0.0060],\n",
              "          [-0.2647, -0.0249, -0.1646]]],\n",
              "\n",
              "\n",
              "        [[[-0.2550,  0.0905, -0.0350],\n",
              "          [-0.2997, -0.1956,  0.1723],\n",
              "          [ 0.2689,  0.3221,  0.0936]]],\n",
              "\n",
              "\n",
              "        [[[ 0.0032,  0.2664,  0.1050],\n",
              "          [ 0.2871,  0.2006, -0.2628],\n",
              "          [ 0.2134, -0.2235, -0.0287]]],\n",
              "\n",
              "\n",
              "        [[[-0.2183,  0.3042,  0.2016],\n",
              "          [ 0.2414, -0.1277, -0.1812],\n",
              "          [ 0.2944,  0.1366,  0.0737]]],\n",
              "\n",
              "\n",
              "        [[[-0.3296,  0.2483,  0.1712],\n",
              "          [-0.1919, -0.0211,  0.2644],\n",
              "          [-0.1999, -0.1781,  0.2249]]],\n",
              "\n",
              "\n",
              "        [[[ 0.3240,  0.1234, -0.1126],\n",
              "          [ 0.1184, -0.1478,  0.0995],\n",
              "          [-0.0200, -0.1031, -0.0034]]],\n",
              "\n",
              "\n",
              "        [[[-0.0582,  0.2398,  0.0563],\n",
              "          [ 0.0937,  0.3298, -0.1575],\n",
              "          [-0.0607,  0.2240,  0.0197]]],\n",
              "\n",
              "\n",
              "        [[[ 0.3040, -0.2878,  0.1041],\n",
              "          [ 0.1154, -0.1992,  0.2090],\n",
              "          [-0.0259,  0.2119,  0.2413]]],\n",
              "\n",
              "\n",
              "        [[[-0.3231,  0.0420,  0.0918],\n",
              "          [-0.2970, -0.2857,  0.2804],\n",
              "          [ 0.3056,  0.2455, -0.2875]]],\n",
              "\n",
              "\n",
              "        [[[ 0.0741, -0.0491, -0.0820],\n",
              "          [-0.2812,  0.1791, -0.2921],\n",
              "          [-0.0828,  0.2302, -0.3180]]],\n",
              "\n",
              "\n",
              "        [[[-0.1188, -0.3262,  0.0314],\n",
              "          [-0.0605, -0.3171, -0.2497],\n",
              "          [ 0.3255,  0.2631, -0.3008]]],\n",
              "\n",
              "\n",
              "        [[[-0.1559, -0.3131,  0.2474],\n",
              "          [ 0.1193,  0.1470,  0.2383],\n",
              "          [-0.2412,  0.0349,  0.2729]]],\n",
              "\n",
              "\n",
              "        [[[ 0.2925, -0.2275, -0.0652],\n",
              "          [-0.3016,  0.0020,  0.0506],\n",
              "          [ 0.0826,  0.3288,  0.3145]]],\n",
              "\n",
              "\n",
              "        [[[ 0.1643,  0.2516,  0.1610],\n",
              "          [-0.1317,  0.1431,  0.0205],\n",
              "          [ 0.2675, -0.2236, -0.0561]]],\n",
              "\n",
              "\n",
              "        [[[-0.2618, -0.1985,  0.0287],\n",
              "          [ 0.1621, -0.0527,  0.0010],\n",
              "          [-0.0802, -0.2270,  0.1204]]],\n",
              "\n",
              "\n",
              "        [[[ 0.0746, -0.1544, -0.0764],\n",
              "          [ 0.1118, -0.1763,  0.2556],\n",
              "          [ 0.0834, -0.1365,  0.1693]]],\n",
              "\n",
              "\n",
              "        [[[-0.0595, -0.1733, -0.1153],\n",
              "          [ 0.1782,  0.3215,  0.0524],\n",
              "          [-0.1360,  0.1071, -0.0819]]],\n",
              "\n",
              "\n",
              "        [[[ 0.0832, -0.2232, -0.3134],\n",
              "          [-0.2600, -0.0352,  0.3129],\n",
              "          [ 0.1743,  0.2561, -0.0413]]],\n",
              "\n",
              "\n",
              "        [[[ 0.1856,  0.0187, -0.3299],\n",
              "          [ 0.2848,  0.2936,  0.2604],\n",
              "          [-0.0860,  0.1048, -0.1729]]],\n",
              "\n",
              "\n",
              "        [[[-0.1695,  0.1861,  0.2542],\n",
              "          [ 0.0232, -0.0356,  0.3242],\n",
              "          [ 0.2265,  0.1967, -0.1993]]]], device='cuda:0', requires_grad=True)"
            ]
          },
          "metadata": {},
          "execution_count": 59
        }
      ]
    },
    {
      "cell_type": "code",
      "source": [],
      "metadata": {
        "id": "e9hcQjptjcQs"
      },
      "execution_count": null,
      "outputs": []
    }
  ]
}