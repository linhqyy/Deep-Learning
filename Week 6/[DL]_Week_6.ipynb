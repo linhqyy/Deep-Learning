{
  "nbformat": 4,
  "nbformat_minor": 0,
  "metadata": {
    "colab": {
      "provenance": [],
      "gpuType": "T4"
    },
    "kernelspec": {
      "name": "python3",
      "display_name": "Python 3"
    },
    "language_info": {
      "name": "python"
    },
    "accelerator": "GPU"
  },
  "cells": [
    {
      "cell_type": "markdown",
      "source": [
        "Use GAN and conditional-GAN to generate fashion-MNIST images"
      ],
      "metadata": {
        "id": "l9aeZYHLIQYE"
      }
    },
    {
      "cell_type": "code",
      "execution_count": 1,
      "metadata": {
        "id": "VFq7RxAGIKs_"
      },
      "outputs": [],
      "source": [
        "import torch\n",
        "import torch.nn as nn\n",
        "import torch.optim as optim\n",
        "from torchvision import datasets, transforms\n",
        "from torch.utils.data import DataLoader"
      ]
    },
    {
      "cell_type": "code",
      "source": [
        "transform = transforms.Compose([transforms.ToTensor(), transforms.Normalize((0.5,), (0.5,))])\n",
        "train_dataset = datasets.FashionMNIST(root='./data', train=True, download=True, transform=transform)\n",
        "train_loader = DataLoader(train_dataset, batch_size=64, shuffle=True)"
      ],
      "metadata": {
        "colab": {
          "base_uri": "https://localhost:8080/"
        },
        "id": "dP7_pJB_JP_h",
        "outputId": "7f87ea6e-80fd-4430-a9ac-dafd1b242d97"
      },
      "execution_count": 2,
      "outputs": [
        {
          "output_type": "stream",
          "name": "stdout",
          "text": [
            "Downloading http://fashion-mnist.s3-website.eu-central-1.amazonaws.com/train-images-idx3-ubyte.gz\n",
            "Downloading http://fashion-mnist.s3-website.eu-central-1.amazonaws.com/train-images-idx3-ubyte.gz to ./data/FashionMNIST/raw/train-images-idx3-ubyte.gz\n"
          ]
        },
        {
          "output_type": "stream",
          "name": "stderr",
          "text": [
            "100%|██████████| 26421880/26421880 [00:02<00:00, 12531187.30it/s]\n"
          ]
        },
        {
          "output_type": "stream",
          "name": "stdout",
          "text": [
            "Extracting ./data/FashionMNIST/raw/train-images-idx3-ubyte.gz to ./data/FashionMNIST/raw\n",
            "\n",
            "Downloading http://fashion-mnist.s3-website.eu-central-1.amazonaws.com/train-labels-idx1-ubyte.gz\n",
            "Downloading http://fashion-mnist.s3-website.eu-central-1.amazonaws.com/train-labels-idx1-ubyte.gz to ./data/FashionMNIST/raw/train-labels-idx1-ubyte.gz\n"
          ]
        },
        {
          "output_type": "stream",
          "name": "stderr",
          "text": [
            "100%|██████████| 29515/29515 [00:00<00:00, 202519.79it/s]\n"
          ]
        },
        {
          "output_type": "stream",
          "name": "stdout",
          "text": [
            "Extracting ./data/FashionMNIST/raw/train-labels-idx1-ubyte.gz to ./data/FashionMNIST/raw\n",
            "\n",
            "Downloading http://fashion-mnist.s3-website.eu-central-1.amazonaws.com/t10k-images-idx3-ubyte.gz\n",
            "Downloading http://fashion-mnist.s3-website.eu-central-1.amazonaws.com/t10k-images-idx3-ubyte.gz to ./data/FashionMNIST/raw/t10k-images-idx3-ubyte.gz\n"
          ]
        },
        {
          "output_type": "stream",
          "name": "stderr",
          "text": [
            "100%|██████████| 4422102/4422102 [00:01<00:00, 3766701.27it/s]\n"
          ]
        },
        {
          "output_type": "stream",
          "name": "stdout",
          "text": [
            "Extracting ./data/FashionMNIST/raw/t10k-images-idx3-ubyte.gz to ./data/FashionMNIST/raw\n",
            "\n",
            "Downloading http://fashion-mnist.s3-website.eu-central-1.amazonaws.com/t10k-labels-idx1-ubyte.gz\n",
            "Downloading http://fashion-mnist.s3-website.eu-central-1.amazonaws.com/t10k-labels-idx1-ubyte.gz to ./data/FashionMNIST/raw/t10k-labels-idx1-ubyte.gz\n"
          ]
        },
        {
          "output_type": "stream",
          "name": "stderr",
          "text": [
            "100%|██████████| 5148/5148 [00:00<00:00, 4971742.34it/s]"
          ]
        },
        {
          "output_type": "stream",
          "name": "stdout",
          "text": [
            "Extracting ./data/FashionMNIST/raw/t10k-labels-idx1-ubyte.gz to ./data/FashionMNIST/raw\n",
            "\n"
          ]
        },
        {
          "output_type": "stream",
          "name": "stderr",
          "text": [
            "\n"
          ]
        }
      ]
    },
    {
      "cell_type": "markdown",
      "source": [
        "# GAN"
      ],
      "metadata": {
        "id": "u71az-_sPy1e"
      }
    },
    {
      "cell_type": "code",
      "source": [
        "class Generator(nn.Module):\n",
        "    def __init__(self):\n",
        "        super(Generator, self).__init__()\n",
        "        self.model = nn.Sequential(\n",
        "            nn.Linear(100, 256),\n",
        "            nn.LeakyReLU(0.2),\n",
        "            nn.Linear(256, 512),\n",
        "            nn.LeakyReLU(0.2),\n",
        "            nn.Linear(512, 1024),\n",
        "            nn.LeakyReLU(0.2),\n",
        "            nn.Linear(1024, 784),\n",
        "            nn.Tanh()\n",
        "        )\n",
        "\n",
        "    def forward(self, z):\n",
        "        return self.model(z).view(-1, 1, 28, 28)\n",
        "\n",
        "class Discriminator(nn.Module):\n",
        "    def __init__(self):\n",
        "        super(Discriminator, self).__init__()\n",
        "        self.model = nn.Sequential(\n",
        "            nn.Linear(784, 512),\n",
        "            nn.LeakyReLU(0.2),\n",
        "            nn.Linear(512, 256),\n",
        "            nn.LeakyReLU(0.2),\n",
        "            nn.Linear(256, 1),\n",
        "            nn.Sigmoid()\n",
        "        )\n",
        "\n",
        "    def forward(self, img):\n",
        "        return self.model(img.view(img.size(0), -1))\n"
      ],
      "metadata": {
        "id": "NNIQXuizJWmT"
      },
      "execution_count": 3,
      "outputs": []
    },
    {
      "cell_type": "code",
      "source": [
        "num_epochs = 50\n",
        "batch_size = 64\n",
        "learning_rate = 0.0002\n",
        "latent_dim = 100\n",
        "\n",
        "criterion = nn.BCELoss()\n",
        "\n",
        "generator = Generator()\n",
        "discriminator = Discriminator()\n",
        "\n",
        "optimizer_G = optim.Adam(generator.parameters(), lr=learning_rate)\n",
        "optimizer_D = optim.Adam(discriminator.parameters(), lr=learning_rate)\n",
        "\n",
        "for epoch in range(num_epochs):\n",
        "    epoch_d_loss, epoch_g_loss = 0, 0\n",
        "\n",
        "    for i, (imgs, _) in enumerate(train_loader):\n",
        "        valid = torch.ones(imgs.size(0), 1, device=imgs.device)\n",
        "        fake = torch.zeros(imgs.size(0), 1, device=imgs.device)\n",
        "\n",
        "        optimizer_D.zero_grad()\n",
        "\n",
        "        real_loss = criterion(discriminator(imgs), valid)\n",
        "        real_loss.backward()\n",
        "\n",
        "        z = torch.randn(imgs.size(0), latent_dim, device=imgs.device)\n",
        "        gen_imgs = generator(z)\n",
        "\n",
        "        fake_loss = criterion(discriminator(gen_imgs.detach()), fake)\n",
        "        fake_loss.backward()\n",
        "\n",
        "        optimizer_D.step()\n",
        "        optimizer_G.zero_grad()\n",
        "\n",
        "        g_loss = criterion(discriminator(gen_imgs), valid)\n",
        "        g_loss.backward()\n",
        "\n",
        "        optimizer_G.step()\n",
        "\n",
        "        epoch_d_loss += real_loss.item() + fake_loss.item()\n",
        "        epoch_g_loss += g_loss.item()\n",
        "\n",
        "    print(f\"Epoch {epoch} - Discriminator Loss: {epoch_d_loss / len(train_loader)}, Generator Loss: {epoch_g_loss / len(train_loader)}\")\n"
      ],
      "metadata": {
        "colab": {
          "base_uri": "https://localhost:8080/"
        },
        "id": "flmpYlyPJcoS",
        "outputId": "6bd2b3d5-5173-4849-ddff-a1dd99be8bf2"
      },
      "execution_count": 5,
      "outputs": [
        {
          "output_type": "stream",
          "name": "stdout",
          "text": [
            "Epoch 0 - Discriminator Loss: 0.6842120549460845, Generator Loss: 2.784383148653929\n",
            "Epoch 1 - Discriminator Loss: 0.6835302580902571, Generator Loss: 2.6666689065219495\n",
            "Epoch 2 - Discriminator Loss: 0.7150559128045655, Generator Loss: 2.3492222244043086\n",
            "Epoch 3 - Discriminator Loss: 0.856458030815826, Generator Loss: 2.0318074546643157\n",
            "Epoch 4 - Discriminator Loss: 0.8524136023798476, Generator Loss: 1.8343750013471412\n",
            "Epoch 5 - Discriminator Loss: 0.9230376078979547, Generator Loss: 1.6414569812034494\n",
            "Epoch 6 - Discriminator Loss: 1.015052789770591, Generator Loss: 1.52998869429265\n",
            "Epoch 7 - Discriminator Loss: 0.9844811354428212, Generator Loss: 1.4871385298303958\n",
            "Epoch 8 - Discriminator Loss: 0.9949269886654831, Generator Loss: 1.5296365646665284\n",
            "Epoch 9 - Discriminator Loss: 1.006231735796054, Generator Loss: 1.4498188930279665\n",
            "Epoch 10 - Discriminator Loss: 1.0101753872658399, Generator Loss: 1.471389212206737\n",
            "Epoch 11 - Discriminator Loss: 1.011978830451142, Generator Loss: 1.465601946499302\n",
            "Epoch 12 - Discriminator Loss: 1.0233016248260225, Generator Loss: 1.4874843305616237\n",
            "Epoch 13 - Discriminator Loss: 0.9998333664781758, Generator Loss: 1.4342120880130003\n",
            "Epoch 14 - Discriminator Loss: 1.0401983915456832, Generator Loss: 1.3433310285305926\n",
            "Epoch 15 - Discriminator Loss: 1.0456222088924094, Generator Loss: 1.3244652810381419\n",
            "Epoch 16 - Discriminator Loss: 1.089521432418559, Generator Loss: 1.316401556165996\n",
            "Epoch 17 - Discriminator Loss: 1.091104498963112, Generator Loss: 1.2832037753133632\n",
            "Epoch 18 - Discriminator Loss: 1.113111168559172, Generator Loss: 1.2517357041586692\n",
            "Epoch 19 - Discriminator Loss: 1.1010544775073716, Generator Loss: 1.3322345421893764\n",
            "Epoch 20 - Discriminator Loss: 1.0993886117551372, Generator Loss: 1.2733148056815173\n",
            "Epoch 21 - Discriminator Loss: 1.1221523774521691, Generator Loss: 1.258381014439597\n",
            "Epoch 22 - Discriminator Loss: 1.1315541989577096, Generator Loss: 1.2414267273472825\n",
            "Epoch 23 - Discriminator Loss: 1.1379894353052191, Generator Loss: 1.1840394866873207\n",
            "Epoch 24 - Discriminator Loss: 1.167106229994597, Generator Loss: 1.1748840439675459\n",
            "Epoch 25 - Discriminator Loss: 1.1588055127973496, Generator Loss: 1.1642481275458834\n",
            "Epoch 26 - Discriminator Loss: 1.1584584552850297, Generator Loss: 1.1705412846257184\n",
            "Epoch 27 - Discriminator Loss: 1.1433219101065513, Generator Loss: 1.2003413276758783\n",
            "Epoch 28 - Discriminator Loss: 1.1624156810136745, Generator Loss: 1.1718760462585034\n",
            "Epoch 29 - Discriminator Loss: 1.1655106325901903, Generator Loss: 1.252186672011418\n",
            "Epoch 30 - Discriminator Loss: 1.1414869776539711, Generator Loss: 1.2206194837337363\n",
            "Epoch 31 - Discriminator Loss: 1.1454799653751764, Generator Loss: 1.161005042763407\n",
            "Epoch 32 - Discriminator Loss: 1.162642236838717, Generator Loss: 1.17668473091461\n",
            "Epoch 33 - Discriminator Loss: 1.1611417575177354, Generator Loss: 1.1678528277985831\n",
            "Epoch 34 - Discriminator Loss: 1.1830860725852217, Generator Loss: 1.126579814755332\n",
            "Epoch 35 - Discriminator Loss: 1.1849727227426032, Generator Loss: 1.1893907504549412\n",
            "Epoch 36 - Discriminator Loss: 1.192298928271733, Generator Loss: 1.1279488405439138\n",
            "Epoch 37 - Discriminator Loss: 1.1715731480355456, Generator Loss: 1.1795127036602004\n",
            "Epoch 38 - Discriminator Loss: 1.1826606177127184, Generator Loss: 1.112606167348463\n",
            "Epoch 39 - Discriminator Loss: 1.1818174906631014, Generator Loss: 1.1937899356330637\n",
            "Epoch 40 - Discriminator Loss: 1.1982467613939538, Generator Loss: 1.091752451238856\n",
            "Epoch 41 - Discriminator Loss: 1.2165810106151393, Generator Loss: 1.1212929653714714\n",
            "Epoch 42 - Discriminator Loss: 1.2163743351949559, Generator Loss: 1.0600788905295229\n",
            "Epoch 43 - Discriminator Loss: 1.2412029651245837, Generator Loss: 1.0591183633311216\n",
            "Epoch 44 - Discriminator Loss: 1.2076873996936437, Generator Loss: 1.0971001792691155\n",
            "Epoch 45 - Discriminator Loss: 1.217592986121869, Generator Loss: 1.0561057595428882\n",
            "Epoch 46 - Discriminator Loss: 1.2210444442943724, Generator Loss: 1.0789915424928482\n",
            "Epoch 47 - Discriminator Loss: 1.2294805875655686, Generator Loss: 1.0631164530955397\n",
            "Epoch 48 - Discriminator Loss: 1.2324421978327258, Generator Loss: 1.019986684960343\n",
            "Epoch 49 - Discriminator Loss: 1.248321066310665, Generator Loss: 0.9952094548546684\n"
          ]
        }
      ]
    },
    {
      "cell_type": "code",
      "source": [
        "generator.eval()\n",
        "\n",
        "import matplotlib.pyplot as plt\n",
        "import numpy as np\n",
        "\n",
        "def generate_images(generator, num_images):\n",
        "    z = torch.randn(num_images, 100)\n",
        "\n",
        "    with torch.no_grad():\n",
        "        generated_images = generator(z).cpu()\n",
        "\n",
        "    return generated_images\n",
        "\n",
        "num_images = 10\n",
        "\n",
        "generated_images = generate_images(generator, num_images)\n",
        "\n",
        "fig, axs = plt.subplots(1, num_images, figsize=(15, 15))\n",
        "for i in range(num_images):\n",
        "    axs[i].imshow(generated_images[i].squeeze(0), cmap='gray')\n",
        "    axs[i].axis('off')\n",
        "plt.show()\n"
      ],
      "metadata": {
        "colab": {
          "base_uri": "https://localhost:8080/",
          "height": 135
        },
        "id": "HTqugrI9TJNG",
        "outputId": "93b7f03c-10bb-43dd-9a35-22193f9b97fc"
      },
      "execution_count": 8,
      "outputs": [
        {
          "output_type": "display_data",
          "data": {
            "text/plain": [
              "<Figure size 1500x1500 with 10 Axes>"
            ],
            "image/png": "[encoded data removed]"
          },
          "metadata": {}
        }
      ]
    },
    {
      "cell_type": "markdown",
      "source": [
        "# cGAN"
      ],
      "metadata": {
        "id": "JouX_FmqP1Qp"
      }
    },
    {
      "cell_type": "code",
      "source": [
        "class ConditionalGenerator(nn.Module):\n",
        "    def __init__(self):\n",
        "        super(ConditionalGenerator, self).__init__()\n",
        "        self.label_emb = nn.Embedding(10, 10)\n",
        "\n",
        "        self.model = nn.Sequential(\n",
        "            nn.Linear(110, 256),\n",
        "            nn.LeakyReLU(0.2, inplace=True),\n",
        "            nn.Linear(256, 512),\n",
        "            nn.LeakyReLU(0.2, inplace=True),\n",
        "            nn.Linear(512, 1024),\n",
        "            nn.LeakyReLU(0.2, inplace=True),\n",
        "            nn.Linear(1024, 784),\n",
        "            nn.Tanh()\n",
        "        )\n",
        "\n",
        "    def forward(self, z, labels):\n",
        "        c = self.label_emb(labels)\n",
        "        x = torch.cat([z, c], 1)\n",
        "        return self.model(x).view(-1, 1, 28, 28)\n",
        "\n",
        "class ConditionalDiscriminator(nn.Module):\n",
        "    def __init__(self):\n",
        "        super(ConditionalDiscriminator, self).__init__()\n",
        "        self.label_emb = nn.Embedding(10, 10)\n",
        "\n",
        "        self.model = nn.Sequential(\n",
        "            nn.Linear(794, 512),\n",
        "            nn.LeakyReLU(0.2, inplace=True),\n",
        "            nn.Linear(512, 256),\n",
        "            nn.LeakyReLU(0.2, inplace=True),\n",
        "            nn.Linear(256, 1),\n",
        "            nn.Sigmoid()\n",
        "        )\n",
        "\n",
        "    def forward(self, img, labels):\n",
        "        c = self.label_emb(labels)\n",
        "        x = torch.cat([img.view(img.size(0), -1), c], 1)\n",
        "        return self.model(x)"
      ],
      "metadata": {
        "id": "koAjUc_lKZUU"
      },
      "execution_count": 9,
      "outputs": []
    },
    {
      "cell_type": "code",
      "source": [
        "num_epochs = 50\n",
        "latent_dim = 100\n",
        "\n",
        "generator = ConditionalGenerator()\n",
        "discriminator = ConditionalDiscriminator()\n",
        "\n",
        "optimizer_G = optim.Adam(generator.parameters(), lr=0.0002)\n",
        "optimizer_D = optim.Adam(discriminator.parameters(), lr=0.0002)\n",
        "\n",
        "criterion = nn.BCELoss()\n",
        "\n",
        "for epoch in range(num_epochs):\n",
        "    epoch_d_loss, epoch_g_loss = 0.0, 0.0\n",
        "\n",
        "    for i, (imgs, labels) in enumerate(train_loader):\n",
        "        real = torch.ones(imgs.size(0), 1, device=imgs.device)\n",
        "        fake = torch.zeros(imgs.size(0), 1, device=imgs.device)\n",
        "\n",
        "        optimizer_D.zero_grad()\n",
        "\n",
        "        real_loss = criterion(discriminator(imgs, labels), real)\n",
        "        real_loss.backward()\n",
        "\n",
        "        z = torch.randn(imgs.size(0), latent_dim, device=imgs.device)\n",
        "        fake_labels = torch.randint(0, 10, (imgs.size(0),), device=imgs.device)\n",
        "        fake_imgs = generator(z, fake_labels)\n",
        "\n",
        "        fake_loss = criterion(discriminator(fake_imgs.detach(), fake_labels), fake)\n",
        "        fake_loss.backward()\n",
        "\n",
        "        optimizer_D.step()\n",
        "\n",
        "        optimizer_G.zero_grad()\n",
        "\n",
        "        g_loss = criterion(discriminator(fake_imgs, fake_labels), real)\n",
        "        g_loss.backward()\n",
        "\n",
        "        optimizer_G.step()\n",
        "\n",
        "        epoch_d_loss += (real_loss.item() + fake_loss.item())\n",
        "        epoch_g_loss += g_loss.item()\n",
        "\n",
        "    avg_d_loss = epoch_d_loss / len(train_loader)\n",
        "    avg_g_loss = epoch_g_loss / len(train_loader)\n",
        "    print(f\"Epoch {epoch} - Discriminator Loss: {avg_d_loss}, Generator Loss: {avg_g_loss}\")\n"
      ],
      "metadata": {
        "colab": {
          "base_uri": "https://localhost:8080/"
        },
        "id": "1o9_L16yUT6c",
        "outputId": "b7178986-1677-49e0-f242-fcd66e1472ce"
      },
      "execution_count": 12,
      "outputs": [
        {
          "output_type": "stream",
          "name": "stdout",
          "text": [
            "Epoch 0 - Discriminator Loss: 0.7151110530870635, Generator Loss: 2.349897623189223\n",
            "Epoch 1 - Discriminator Loss: 0.34132330532102334, Generator Loss: 4.802749971845257\n",
            "Epoch 2 - Discriminator Loss: 0.4895192838327558, Generator Loss: 3.9801747138057944\n",
            "Epoch 3 - Discriminator Loss: 0.5293651348524002, Generator Loss: 3.581973212105887\n",
            "Epoch 4 - Discriminator Loss: 0.5693137105316051, Generator Loss: 3.332770964484225\n",
            "Epoch 5 - Discriminator Loss: 0.5777084266008344, Generator Loss: 3.214993958407119\n",
            "Epoch 6 - Discriminator Loss: 0.7067649013626931, Generator Loss: 2.5297574456820864\n",
            "Epoch 7 - Discriminator Loss: 0.8344827008876465, Generator Loss: 2.2075742880926965\n",
            "Epoch 8 - Discriminator Loss: 0.8056211986584958, Generator Loss: 2.1998088308997246\n",
            "Epoch 9 - Discriminator Loss: 0.9005436966541225, Generator Loss: 1.9906701598086083\n",
            "Epoch 10 - Discriminator Loss: 0.9539797951671869, Generator Loss: 1.7991405689894264\n",
            "Epoch 11 - Discriminator Loss: 0.9659459278114569, Generator Loss: 1.7206537942133986\n",
            "Epoch 12 - Discriminator Loss: 1.0228818574312653, Generator Loss: 1.5426910139604417\n",
            "Epoch 13 - Discriminator Loss: 1.1154106466500744, Generator Loss: 1.369642060575709\n",
            "Epoch 14 - Discriminator Loss: 1.0941729201182628, Generator Loss: 1.3569726527753923\n",
            "Epoch 15 - Discriminator Loss: 1.0684640135274512, Generator Loss: 1.4172603582014154\n",
            "Epoch 16 - Discriminator Loss: 0.9609139844107983, Generator Loss: 1.658224818167656\n",
            "Epoch 17 - Discriminator Loss: 0.9831050944004232, Generator Loss: 1.6711345809354965\n",
            "Epoch 18 - Discriminator Loss: 0.9137614575435103, Generator Loss: 1.7921370935084215\n",
            "Epoch 19 - Discriminator Loss: 0.9738922949348178, Generator Loss: 1.6091205391294159\n",
            "Epoch 20 - Discriminator Loss: 0.948894819089853, Generator Loss: 1.7635968833335682\n",
            "Epoch 21 - Discriminator Loss: 0.9002829653018319, Generator Loss: 1.9325456820062992\n",
            "Epoch 22 - Discriminator Loss: 0.895849135257542, Generator Loss: 1.8654729657844185\n",
            "Epoch 23 - Discriminator Loss: 0.9735845615710023, Generator Loss: 1.65282345580648\n",
            "Epoch 24 - Discriminator Loss: 0.978508488122207, Generator Loss: 1.5982867536514298\n",
            "Epoch 25 - Discriminator Loss: 0.9672685513205366, Generator Loss: 1.6917947211753586\n",
            "Epoch 26 - Discriminator Loss: 1.039291824660957, Generator Loss: 1.5162591438557802\n",
            "Epoch 27 - Discriminator Loss: 1.0111470401827207, Generator Loss: 1.5183576477616072\n",
            "Epoch 28 - Discriminator Loss: 1.0614620204736938, Generator Loss: 1.4656588333501999\n",
            "Epoch 29 - Discriminator Loss: 1.0958047668689859, Generator Loss: 1.3661907160841327\n",
            "Epoch 30 - Discriminator Loss: 1.0600364281774075, Generator Loss: 1.4865003807712465\n",
            "Epoch 31 - Discriminator Loss: 1.0616666793759697, Generator Loss: 1.4223455953191337\n",
            "Epoch 32 - Discriminator Loss: 1.0767505451687363, Generator Loss: 1.4883991682580284\n",
            "Epoch 33 - Discriminator Loss: 1.067687315917981, Generator Loss: 1.4248783748541305\n",
            "Epoch 34 - Discriminator Loss: 1.0628736033749733, Generator Loss: 1.4649659722471542\n",
            "Epoch 35 - Discriminator Loss: 1.10287139982557, Generator Loss: 1.3829334770946868\n",
            "Epoch 36 - Discriminator Loss: 1.0840826484440231, Generator Loss: 1.397141670240268\n",
            "Epoch 37 - Discriminator Loss: 1.1102069196289281, Generator Loss: 1.398211136555621\n",
            "Epoch 38 - Discriminator Loss: 1.1167364235181036, Generator Loss: 1.3498978606546357\n",
            "Epoch 39 - Discriminator Loss: 1.1407038263166382, Generator Loss: 1.342554282595608\n",
            "Epoch 40 - Discriminator Loss: 1.1332775555821115, Generator Loss: 1.346624914453482\n",
            "Epoch 41 - Discriminator Loss: 1.0884606326376196, Generator Loss: 1.4353932278878145\n",
            "Epoch 42 - Discriminator Loss: 1.090561872669883, Generator Loss: 1.431646482077743\n",
            "Epoch 43 - Discriminator Loss: 1.0684712967638776, Generator Loss: 1.472136811915237\n",
            "Epoch 44 - Discriminator Loss: 1.0437072088469321, Generator Loss: 1.5416344767694534\n",
            "Epoch 45 - Discriminator Loss: 1.026634611777151, Generator Loss: 1.5355895220089568\n",
            "Epoch 46 - Discriminator Loss: 1.0797963733040195, Generator Loss: 1.555588645975727\n",
            "Epoch 47 - Discriminator Loss: 0.9916713182796547, Generator Loss: 1.5513434296986188\n",
            "Epoch 48 - Discriminator Loss: 1.0912316757351606, Generator Loss: 1.4674501612877795\n",
            "Epoch 49 - Discriminator Loss: 1.0556585568227748, Generator Loss: 1.558533268887351\n"
          ]
        }
      ]
    },
    {
      "cell_type": "code",
      "source": [
        "generator.eval()\n",
        "import matplotlib.pyplot as plt\n",
        "import numpy as np\n",
        "\n",
        "def generate_images(generator, num_images, labels):\n",
        "    z = torch.randn(num_images, latent_dim)\n",
        "\n",
        "    with torch.no_grad():\n",
        "        generated_images = generator(z, labels).cpu()\n",
        "\n",
        "    return generated_images\n",
        "\n",
        "num_images = 10\n",
        "labels = torch.tensor([0, 1, 2, 3, 4, 5, 6, 7, 8, 9])\n",
        "\n",
        "generated_images = generate_images(generator, num_images, labels)\n",
        "\n",
        "fig, axs = plt.subplots(1, num_images, figsize=(15, 15))\n",
        "for i in range(num_images):\n",
        "    axs[i].imshow(generated_images[i].squeeze(0), cmap='gray')\n",
        "    axs[i].axis('off')\n",
        "plt.show()\n"
      ],
      "metadata": {
        "colab": {
          "base_uri": "https://localhost:8080/",
          "height": 135
        },
        "id": "5hRdPMBrUhQs",
        "outputId": "3a46c556-fe16-4c94-cf12-c9618e35d666"
      },
      "execution_count": 14,
      "outputs": [
        {
          "output_type": "display_data",
          "data": {
            "text/plain": [
              "<Figure size 1500x1500 with 10 Axes>"
            ],
            "image/png": "[encoded data removed]"
          },
          "metadata": {}
        }
      ]
    },
    {
      "cell_type": "code",
      "source": [],
      "metadata": {
        "id": "6oOAkH7aeXAG"
      },
      "execution_count": null,
      "outputs": []
    }
  ]
}